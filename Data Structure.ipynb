{
 "cells": [
  {
   "cell_type": "markdown",
   "metadata": {},
   "source": [
    "# Linked List"
   ]
  },
  {
   "cell_type": "markdown",
   "metadata": {},
   "source": [
    "<h1><font color ='red'>remove_duplicates</font></h1>"
   ]
  },
  {
   "cell_type": "markdown",
   "metadata": {},
   "source": [
    "Q-Write code to remove duplicates from an unsorted linked list."
   ]
  },
  {
   "cell_type": "code",
   "execution_count": 1,
   "metadata": {},
   "outputs": [],
   "source": [
    "def remove_duplicates(head):\n",
    "    nodes = {}\n",
    "    node = head\n",
    "    while(node!=None):\n",
    "        if node.data in nodes.keys():\n",
    "            node.data = node.next.data\n",
    "            node.next = node.next.next\n",
    "        else:\n",
    "            nodes[node.data] = 1\n",
    "            node = node.next\n",
    "    return head\n",
    "\n",
    "class Node():\n",
    "  def __init__(self, data, next):\n",
    "    self.data = data\n",
    "    self.next = next"
   ]
  },
  {
   "cell_type": "code",
   "execution_count": 3,
   "metadata": {},
   "outputs": [
    {
     "name": "stdout",
     "output_type": "stream",
     "text": [
      "<__main__.Node object at 0x10a4180d0>\n"
     ]
    }
   ],
   "source": [
    "head = Node(1,Node(3,Node(3,Node(1,Node(5,None)))))\n",
    "print(remove_duplicates(head))"
   ]
  },
  {
   "cell_type": "code",
   "execution_count": 4,
   "metadata": {},
   "outputs": [
    {
     "data": {
      "text/plain": [
       "1"
      ]
     },
     "execution_count": 4,
     "metadata": {},
     "output_type": "execute_result"
    }
   ],
   "source": [
    "head.data"
   ]
  },
  {
   "cell_type": "code",
   "execution_count": 5,
   "metadata": {},
   "outputs": [
    {
     "data": {
      "text/plain": [
       "3"
      ]
     },
     "execution_count": 5,
     "metadata": {},
     "output_type": "execute_result"
    }
   ],
   "source": [
    "head.next.data"
   ]
  },
  {
   "cell_type": "code",
   "execution_count": 79,
   "metadata": {},
   "outputs": [
    {
     "data": {
      "text/plain": [
       "3"
      ]
     },
     "execution_count": 79,
     "metadata": {},
     "output_type": "execute_result"
    }
   ],
   "source": [
    "head.next.next.data"
   ]
  },
  {
   "cell_type": "markdown",
   "metadata": {},
   "source": [
    "<h1><font color ='red'>sum lists</font></h1>"
   ]
  },
  {
   "cell_type": "raw",
   "metadata": {},
   "source": [
    "You have two numbers represented by a linked list, where each node contains a single digit. The digits are stored in reverse order, such that the 1's digit is at the head of the list. Write a function that adds the two numbers and returns the sum as a linked list.\n",
    "\n",
    "\n",
    "EXAMPLE\n",
    "Input: (7-> 1 -> 6) + (5 -> 9 -> 2).That is,617 + 295. Output: 2 -) 1 -) 9.That is, 912.\n",
    "FOLLOW UP\n",
    "Suppose the digits are stored in forward order. Repeat the above problem. EXAMPLE\n",
    "Input: (6 -> 1 -> 7) + (2 -> 9 -> 5).Thatis,617 + 295."
   ]
  },
  {
   "cell_type": "code",
   "execution_count": 16,
   "metadata": {},
   "outputs": [],
   "source": [
    "def sum_lists(num1, num2):\n",
    "    result = Node((num1.data+num2.data)%10)\n",
    "    pA = result\n",
    "    carry = int((num1.data+num2.data)/10)\n",
    "    while num1 or num2:\n",
    "        if num1:\n",
    "            num1 = num1.next\n",
    "            if num1:a = num1.data\n",
    "            else: a = 0\n",
    "        if num2:\n",
    "            num2 = num2.next\n",
    "            if num2:b = num2.data\n",
    "            else: b = 0\n",
    "        if num2 == None and num1 == None : break\n",
    "        pA.next = Node((a+b+carry)%10)\n",
    "        pA = pA.next\n",
    "        carry = int((a+b+carry)/10)\n",
    "        \n",
    "    return result"
   ]
  },
  {
   "cell_type": "code",
   "execution_count": 17,
   "metadata": {},
   "outputs": [],
   "source": [
    "class Node():\n",
    "  def __init__(self, data, next=None):\n",
    "    self.data, self.next = data, next\n",
    "  \n",
    "  def __str__(self):\n",
    "    string = str(self.data)\n",
    "    if self.next:\n",
    "      string += ',' + str(self.next)\n",
    "    return string"
   ]
  },
  {
   "cell_type": "code",
   "execution_count": 18,
   "metadata": {},
   "outputs": [],
   "source": [
    "num1 = Node(1,Node(2,Node(3)))\n",
    "num2 = Node(4,Node(9,Node(5)))"
   ]
  },
  {
   "cell_type": "code",
   "execution_count": 19,
   "metadata": {},
   "outputs": [
    {
     "data": {
      "text/plain": [
       "'5,1,9'"
      ]
     },
     "execution_count": 19,
     "metadata": {},
     "output_type": "execute_result"
    }
   ],
   "source": [
    "str(sum_lists(num1, num2))"
   ]
  },
  {
   "cell_type": "code",
   "execution_count": 20,
   "metadata": {},
   "outputs": [],
   "source": [
    "num1 = Node(9,Node(2,Node(3,Node(4,Node(1)))))\n",
    "num2 = Node(4,Node(9,Node(8)))"
   ]
  },
  {
   "cell_type": "code",
   "execution_count": 21,
   "metadata": {},
   "outputs": [
    {
     "data": {
      "text/plain": [
       "'3,2,2,5,1'"
      ]
     },
     "execution_count": 21,
     "metadata": {},
     "output_type": "execute_result"
    }
   ],
   "source": [
    "str(sum_lists(num1, num2))"
   ]
  },
  {
   "cell_type": "markdown",
   "metadata": {},
   "source": [
    "<h1><font color ='red'>Palindrome</font></h1>"
   ]
  },
  {
   "cell_type": "markdown",
   "metadata": {},
   "source": [
    "Implement a function to check if a linked list is a palindrome."
   ]
  },
  {
   "cell_type": "code",
   "execution_count": 25,
   "metadata": {},
   "outputs": [],
   "source": [
    "def is_palindrome(head):\n",
    "    node1 = head\n",
    "    node2 = copy_reverse(head)\n",
    "    while node1:\n",
    "        if node1.data != node2.data:\n",
    "            return False\n",
    "        node1 = node1.next\n",
    "        node2 = node2.next\n",
    "    return True\n",
    "        \n",
    "def copy_reverse(head):\n",
    "    firstnode = copy(head)\n",
    "    secondnode = None\n",
    "    while firstnode:\n",
    "        temp = copy(firstnode.next)\n",
    "        firstnode.next = secondnode\n",
    "        secondnode = firstnode\n",
    "        firstnode = temp\n",
    "    return secondnode\n",
    "      \n",
    "def copy(node):\n",
    "    if node == None: return None\n",
    "    return Node(node.data, node.next)\n",
    "\n",
    "class Node():\n",
    "  def __init__(self, data, next=None):\n",
    "    self.data, self.next = data, next\n",
    "\n",
    "  def __str__(self):\n",
    "    string = str(self.data)\n",
    "    if self.next:\n",
    "      string += ',' + str(self.next)\n",
    "    return string"
   ]
  },
  {
   "cell_type": "code",
   "execution_count": 26,
   "metadata": {},
   "outputs": [
    {
     "data": {
      "text/plain": [
       "True"
      ]
     },
     "execution_count": 26,
     "metadata": {},
     "output_type": "execute_result"
    }
   ],
   "source": [
    "list1 = Node(10)\n",
    "is_palindrome(list1)"
   ]
  },
  {
   "cell_type": "code",
   "execution_count": 27,
   "metadata": {},
   "outputs": [
    {
     "data": {
      "text/plain": [
       "True"
      ]
     },
     "execution_count": 27,
     "metadata": {},
     "output_type": "execute_result"
    }
   ],
   "source": [
    "list2 = Node(10,Node(70,Node(30,Node(70,Node(10)))))\n",
    "is_palindrome(list2)"
   ]
  },
  {
   "cell_type": "code",
   "execution_count": 30,
   "metadata": {},
   "outputs": [
    {
     "data": {
      "text/plain": [
       "<__main__.Node at 0x10a3ccf10>"
      ]
     },
     "execution_count": 30,
     "metadata": {},
     "output_type": "execute_result"
    }
   ],
   "source": [
    "head = Node(10,Node(20,Node(30,Node(40))))\n",
    "copy_reverse(head)"
   ]
  },
  {
   "cell_type": "code",
   "execution_count": 37,
   "metadata": {},
   "outputs": [
    {
     "data": {
      "text/plain": [
       "'40,30,20,10'"
      ]
     },
     "execution_count": 37,
     "metadata": {},
     "output_type": "execute_result"
    }
   ],
   "source": [
    "str(copy_reverse(head))"
   ]
  },
  {
   "cell_type": "markdown",
   "metadata": {},
   "source": [
    "<h1><font color ='red'>Partition</font></h1>"
   ]
  },
  {
   "cell_type": "raw",
   "metadata": {},
   "source": [
    "Intersection: Given two (singly) linked lists, determine if the two lists intersect. Return the inter- secting node. Note that the intersection is defined based on reference, not value. That is, if the kth node of the first linked list is the exact same node (by reference) as the jth node of the second linked list, then they are intersecting."
   ]
  },
  {
   "cell_type": "code",
   "execution_count": 91,
   "metadata": {},
   "outputs": [],
   "source": [
    "def intersection(head1, head2):\n",
    "    A = {}\n",
    "    while head1:\n",
    "        A[head1] = 1\n",
    "        head1= head1.next\n",
    "    while head2:\n",
    "        if head2 in A:\n",
    "            return head2\n",
    "        head2 = head2.next\n",
    "    return None\n",
    "\n",
    "class Node():\n",
    "  def __init__(self, data, next=None):\n",
    "    self.data, self.next = data, next\n",
    "\n",
    "  def __str__(self):\n",
    "    string = str(self.data)\n",
    "    if self.next:\n",
    "      string += ',' + str(self.next)\n",
    "    return string"
   ]
  },
  {
   "cell_type": "code",
   "execution_count": 92,
   "metadata": {},
   "outputs": [],
   "source": [
    "head1 = Node(10,Node(20,Node(30)))\n",
    "head2 = Node(20,Node(30,Node(40)))"
   ]
  },
  {
   "cell_type": "code",
   "execution_count": 93,
   "metadata": {},
   "outputs": [
    {
     "name": "stdout",
     "output_type": "stream",
     "text": [
      "None\n"
     ]
    }
   ],
   "source": [
    "print(intersection(head1, head2))"
   ]
  },
  {
   "cell_type": "code",
   "execution_count": 94,
   "metadata": {},
   "outputs": [],
   "source": [
    "node = Node(70,Node(80))"
   ]
  },
  {
   "cell_type": "code",
   "execution_count": 95,
   "metadata": {},
   "outputs": [],
   "source": [
    "head3 = Node(50,Node(20,node))\n",
    "head4 = Node(60,Node(90,Node(10,node)))"
   ]
  },
  {
   "cell_type": "code",
   "execution_count": 96,
   "metadata": {},
   "outputs": [
    {
     "name": "stdout",
     "output_type": "stream",
     "text": [
      "70,80 70,80\n"
     ]
    }
   ],
   "source": [
    "print(intersection(head3, head4),node)"
   ]
  },
  {
   "cell_type": "markdown",
   "metadata": {},
   "source": [
    "<h1><font color ='red'>Loop Detection</font></h1>"
   ]
  },
  {
   "cell_type": "raw",
   "metadata": {},
   "source": [
    "Loop Detection: Given a circular linked list, implement an algorithm that returns the node at the beginning of the loop.\n",
    "DEFINI TION\n",
    "Circular linked list: A (corrupt) linked list in which a node's next pointer points to an earlier node, so as to make a loop in the linked list.\n",
    "EXAMPLE\n",
    "Input: A -> B -> C -> 0 -> E -> C\n",
    "Output: C"
   ]
  },
  {
   "cell_type": "code",
   "execution_count": 97,
   "metadata": {},
   "outputs": [],
   "source": [
    "def detect_cycle(head):\n",
    "    pA = head\n",
    "    pB = head.next\n",
    "    A = {}\n",
    "    while pB:\n",
    "        A[pA] = 1\n",
    "        if pB in A:\n",
    "            return pB\n",
    "        pA = pA.next\n",
    "        pB = pB.next\n",
    "    return None \n",
    "\n",
    "class Node():\n",
    "  def __init__(self, data, next=None):\n",
    "    self.data, self.next = data, next"
   ]
  },
  {
   "cell_type": "code",
   "execution_count": 98,
   "metadata": {},
   "outputs": [],
   "source": [
    "head1 = Node(100,Node(200,Node(300)))"
   ]
  },
  {
   "cell_type": "code",
   "execution_count": 99,
   "metadata": {},
   "outputs": [
    {
     "name": "stdout",
     "output_type": "stream",
     "text": [
      "None\n"
     ]
    }
   ],
   "source": [
    "print(detect_cycle(head1))"
   ]
  },
  {
   "cell_type": "markdown",
   "metadata": {},
   "source": [
    "<h1><font color ='red'>Delete Middle Node </font></h1>"
   ]
  },
  {
   "cell_type": "raw",
   "metadata": {},
   "source": [
    "Delete Middle Node: Implement an algorithm to delete a node in the middle (i.e., any node but the first and last node, not necessarily the exact middle) of a singly linked list, given only access to that node.\n",
    "EXAMPLE\n",
    "Input:  a - >b- >c - >d - >e- >f\n",
    "Result: a - >b- >d - >e- >f"
   ]
  },
  {
   "cell_type": "code",
   "execution_count": 100,
   "metadata": {},
   "outputs": [],
   "source": [
    "def delete_middle(node):\n",
    "   node.data = node.next.data\n",
    "   node.next = node.next.next\n",
    "\n",
    "class Node():\n",
    "  def __init__(self, data, next=None):\n",
    "    self.data, self.next = data, next"
   ]
  },
  {
   "cell_type": "code",
   "execution_count": 101,
   "metadata": {},
   "outputs": [],
   "source": [
    "head = Node(1,Node(2,Node(3,Node(4))))\n",
    "delete_middle(head.next.next)"
   ]
  },
  {
   "cell_type": "code",
   "execution_count": 102,
   "metadata": {},
   "outputs": [
    {
     "data": {
      "text/plain": [
       "1"
      ]
     },
     "execution_count": 102,
     "metadata": {},
     "output_type": "execute_result"
    }
   ],
   "source": [
    "head.data"
   ]
  },
  {
   "cell_type": "code",
   "execution_count": 103,
   "metadata": {},
   "outputs": [
    {
     "data": {
      "text/plain": [
       "2"
      ]
     },
     "execution_count": 103,
     "metadata": {},
     "output_type": "execute_result"
    }
   ],
   "source": [
    "head.next.data"
   ]
  },
  {
   "cell_type": "code",
   "execution_count": 104,
   "metadata": {},
   "outputs": [
    {
     "data": {
      "text/plain": [
       "4"
      ]
     },
     "execution_count": 104,
     "metadata": {},
     "output_type": "execute_result"
    }
   ],
   "source": [
    "head.next.next.data"
   ]
  },
  {
   "cell_type": "markdown",
   "metadata": {},
   "source": [
    "\n",
    "<h1><font color ='red'>Return Kth to Last</font></h1>"
   ]
  },
  {
   "cell_type": "markdown",
   "metadata": {},
   "source": [
    "Implement an algorithm to find the kth to last element of a singly linked list."
   ]
  },
  {
   "cell_type": "code",
   "execution_count": 105,
   "metadata": {},
   "outputs": [],
   "source": [
    "def kth_to_last(head, k):\n",
    "    if k == 0: return None\n",
    "    pA = head\n",
    "    pB = head\n",
    "    for i in range (0,k):\n",
    "        if not pA:\n",
    "            return None\n",
    "        pA = pA.next\n",
    "    while pA:\n",
    "        pA, pB = pA.next, pB.next\n",
    "    return pB\n",
    "class Node():\n",
    "  def __init__(self, data, next=None):\n",
    "    self.data = data\n",
    "    self.next = next"
   ]
  },
  {
   "cell_type": "code",
   "execution_count": 106,
   "metadata": {},
   "outputs": [],
   "source": [
    "head = Node(1,Node(2,Node(3,Node(4,Node(5,Node(6,Node(7)))))))"
   ]
  },
  {
   "cell_type": "code",
   "execution_count": 107,
   "metadata": {},
   "outputs": [
    {
     "data": {
      "text/plain": [
       "(None, None)"
      ]
     },
     "execution_count": 107,
     "metadata": {},
     "output_type": "execute_result"
    }
   ],
   "source": [
    "(None, kth_to_last(head, 0))"
   ]
  },
  {
   "cell_type": "code",
   "execution_count": 108,
   "metadata": {},
   "outputs": [
    {
     "data": {
      "text/plain": [
       "7"
      ]
     },
     "execution_count": 108,
     "metadata": {},
     "output_type": "execute_result"
    }
   ],
   "source": [
    "(kth_to_last(head, 1).data)"
   ]
  },
  {
   "cell_type": "code",
   "execution_count": 109,
   "metadata": {},
   "outputs": [
    {
     "data": {
      "text/plain": [
       "4"
      ]
     },
     "execution_count": 109,
     "metadata": {},
     "output_type": "execute_result"
    }
   ],
   "source": [
    "(kth_to_last(head, 4).data)"
   ]
  },
  {
   "cell_type": "code",
   "execution_count": 110,
   "metadata": {},
   "outputs": [
    {
     "data": {
      "text/plain": [
       "2"
      ]
     },
     "execution_count": 110,
     "metadata": {},
     "output_type": "execute_result"
    }
   ],
   "source": [
    "(kth_to_last(head, 6).data)"
   ]
  },
  {
   "cell_type": "code",
   "execution_count": 111,
   "metadata": {},
   "outputs": [
    {
     "data": {
      "text/plain": [
       "1"
      ]
     },
     "execution_count": 111,
     "metadata": {},
     "output_type": "execute_result"
    }
   ],
   "source": [
    "(kth_to_last(head, 7).data)"
   ]
  },
  {
   "cell_type": "code",
   "execution_count": 112,
   "metadata": {},
   "outputs": [],
   "source": [
    "(kth_to_last(head, 8))"
   ]
  },
  {
   "cell_type": "markdown",
   "metadata": {},
   "source": [
    "# Array"
   ]
  },
  {
   "cell_type": "markdown",
   "metadata": {},
   "source": [
    "Is Unique: Implement an algorithm to determine if a string has all unique characters. What if you cannot use additional data structures?"
   ]
  },
  {
   "cell_type": "code",
   "execution_count": 113,
   "metadata": {},
   "outputs": [],
   "source": [
    "def noDupe(string):\n",
    "  a={}\n",
    "  for char in string:\n",
    "    if char in a:\n",
    "      return False\n",
    "    else:\n",
    "      a[char] = 1\n",
    "  return True"
   ]
  },
  {
   "cell_type": "code",
   "execution_count": 114,
   "metadata": {},
   "outputs": [
    {
     "name": "stdout",
     "output_type": "stream",
     "text": [
      "False\n",
      "True\n",
      "True\n",
      "False\n",
      "True\n"
     ]
    }
   ],
   "source": [
    "print (noDupe('aaaaaa'))\n",
    "print (noDupe('abcdefg'))\n",
    "print (noDupe(''))\n",
    "print (noDupe('abcdefghijklmnopqrstuvwxyzz'))\n",
    "print (noDupe('abcdefghijklmnopqrstuvwxyz'))"
   ]
  },
  {
   "cell_type": "markdown",
   "metadata": {},
   "source": [
    "\n",
    "Check Permutation: Given two strings, write a method to decide if one is a permutation of the other."
   ]
  },
  {
   "cell_type": "code",
   "execution_count": 115,
   "metadata": {},
   "outputs": [
    {
     "name": "stdout",
     "output_type": "stream",
     "text": [
      "True\n",
      "True\n",
      "False\n",
      "False\n",
      "False\n"
     ]
    }
   ],
   "source": [
    "from collections import Counter\n",
    "\n",
    "def isPermutation(stringA, stringB):\n",
    "  return Counter(stringA) == Counter(stringB)\n",
    "\n",
    "print (isPermutation('abc','cba'))\n",
    "print (isPermutation('abc','bca'))\n",
    "print (isPermutation('abc','bcaa'))\n",
    "print (isPermutation('abc','bcax'))\n",
    "print (isPermutation('abc','b'))"
   ]
  },
  {
   "cell_type": "markdown",
   "metadata": {},
   "source": [
    "URLify: Write a method to replace all spaces in a string with '%20: You may assume that the string has sufficient space at the end to hold the additional characters, and that you are given the \"true\" length of the string. (Note: If implementing in Java, please use a character array so that you can perform this operation in place.)\n",
    "EXAMPLE\n",
    "Input: \"abab  abab aaaaaa \"\n",
    "Output: \"abab%20%20abab%20aaaaaa\""
   ]
  },
  {
   "cell_type": "code",
   "execution_count": 117,
   "metadata": {},
   "outputs": [
    {
     "name": "stdout",
     "output_type": "stream",
     "text": [
      "abab%20%20abab%20aaaaaa\n"
     ]
    }
   ],
   "source": [
    "def URLfy(string):\n",
    "    return string.strip().replace(' ', '%20')\n",
    "\n",
    "print (URLfy('abab  abab aaaaaa '))"
   ]
  },
  {
   "cell_type": "markdown",
   "metadata": {},
   "source": [
    "Rotate Matrix: Given an image represented by an NxN matrix, where each pixel in the image is 4 bytes, write a method to rotate the image by 90 degrees. (an you do this in place?\n"
   ]
  },
  {
   "cell_type": "code",
   "execution_count": 120,
   "metadata": {},
   "outputs": [],
   "source": [
    "def rotate_matrix(m):\n",
    "    l = len(m)\n",
    "    rotate = [None]*l\n",
    "    for row in range (0,l):\n",
    "        rotate[row] = [None]*l\n",
    "    \n",
    "    for i in range (0, l):\n",
    "        for j in range (0, l):\n",
    "            rotate[l-i-1][j] = m[j][i]\n",
    "    return rotate"
   ]
  },
  {
   "cell_type": "code",
   "execution_count": 121,
   "metadata": {},
   "outputs": [],
   "source": [
    "mat1 = [[1,2],[3,4]]\n",
    "mat2 = [[2,4],[1,3]]"
   ]
  },
  {
   "cell_type": "code",
   "execution_count": 122,
   "metadata": {},
   "outputs": [
    {
     "data": {
      "text/plain": [
       "([[2, 4], [1, 3]], [[2, 4], [1, 3]])"
      ]
     },
     "execution_count": 122,
     "metadata": {},
     "output_type": "execute_result"
    }
   ],
   "source": [
    "(rotate_matrix(mat1), mat2)"
   ]
  },
  {
   "cell_type": "markdown",
   "metadata": {},
   "source": [
    " Palindrome Permutation: Given a string, write a function to check if it is a permutation of a palin- drome. A palindrome is a word or phrase that is the same forwards and backwards. A permutation is a rearrangement of letters.The palindrome does not need to be limited to just dictionary words.\n"
   ]
  },
  {
   "cell_type": "code",
   "execution_count": 124,
   "metadata": {},
   "outputs": [
    {
     "name": "stdout",
     "output_type": "stream",
     "text": [
      "True\n",
      "False\n",
      "False\n",
      "True\n",
      "True\n"
     ]
    }
   ],
   "source": [
    "def isPerOfPalindrome(stringA):\n",
    "    Letters = {}\n",
    "    for char in stringA:\n",
    "        if char in Letters:\n",
    "            Letters[char] += 1\n",
    "        else:\n",
    "            Letters[char] = 1\n",
    "    odd = 0\n",
    "    for count in Letters.values():\n",
    "        if count%2 > 0:\n",
    "            odd += 1\n",
    "            if odd > 1:\n",
    "                return False\n",
    "    return True\n",
    "\n",
    "    \n",
    "print (isPerOfPalindrome('racecar'))\n",
    "print (isPerOfPalindrome('recar'))\n",
    "print (isPerOfPalindrome('rcecar'))\n",
    "print (isPerOfPalindrome('rr'))\n",
    "print (isPerOfPalindrome(''))"
   ]
  },
  {
   "cell_type": "markdown",
   "metadata": {},
   "source": [
    "\n",
    "String Compression: Implement a method to perform basic string compression using the counts of repeated characters. For example, the string aabcccccaaa would become a2b1c5a3. If the \"compressed\" string would not become smaller than the original string, your method should return the original string. You can assume the string has only uppercase and lowercase letters (a - z)."
   ]
  },
  {
   "cell_type": "code",
   "execution_count": 125,
   "metadata": {},
   "outputs": [
    {
     "name": "stdout",
     "output_type": "stream",
     "text": [
      "a3b3c1b1\n",
      "a1b1\n",
      "a1\n",
      "\n",
      "a3b3c1b1a1b1a1b1a1b1a1b1a1b1a1b1a1b1a1b1a1b1a1x20\n"
     ]
    }
   ],
   "source": [
    "def compress(string):\n",
    "    if string == '':\n",
    "        return ''\n",
    "    current = string[0]\n",
    "    result = ''\n",
    "    count = 0\n",
    "    string = string + ' '\n",
    "    for i in range (0, len(string)):\n",
    "        if current == string[i]:\n",
    "            count +=1\n",
    "        else: \n",
    "            result += current+str(count)\n",
    "            count = 1\n",
    "        current = string[i]\n",
    "    return result\n",
    "    \n",
    "print (compress('aaabbbcb'))\n",
    "print (compress('ab'))\n",
    "print (compress('a'))\n",
    "print (compress(''))\n",
    "print (compress('aaabbbcbabababababababababaxxxxxxxxxxxxxxxxxxxx'))\n"
   ]
  },
  {
   "cell_type": "code",
   "execution_count": null,
   "metadata": {},
   "outputs": [],
   "source": []
  }
 ],
 "metadata": {
  "kernelspec": {
   "display_name": "Python 3",
   "language": "python",
   "name": "python3"
  },
  "language_info": {
   "codemirror_mode": {
    "name": "ipython",
    "version": 3
   },
   "file_extension": ".py",
   "mimetype": "text/x-python",
   "name": "python",
   "nbconvert_exporter": "python",
   "pygments_lexer": "ipython3",
   "version": "3.7.6"
  }
 },
 "nbformat": 4,
 "nbformat_minor": 4
}
