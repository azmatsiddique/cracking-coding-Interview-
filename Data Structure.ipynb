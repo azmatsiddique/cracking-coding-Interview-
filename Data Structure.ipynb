{
 "cells": [
  {
   "cell_type": "markdown",
   "metadata": {},
   "source": [
    "# Linked List"
   ]
  },
  {
   "cell_type": "markdown",
   "metadata": {},
   "source": [
    "<h1><font color ='red'>remove_duplicates</font></h1>"
   ]
  },
  {
   "cell_type": "markdown",
   "metadata": {},
   "source": [
    "Q-Write code to remove duplicates from an unsorted linked list."
   ]
  },
  {
   "cell_type": "code",
   "execution_count": 1,
   "metadata": {},
   "outputs": [],
   "source": [
    "def remove_duplicates(head):\n",
    "    nodes = {}\n",
    "    node = head\n",
    "    while(node!=None):\n",
    "        if node.data in nodes.keys():\n",
    "            node.data = node.next.data\n",
    "            node.next = node.next.next\n",
    "        else:\n",
    "            nodes[node.data] = 1\n",
    "            node = node.next\n",
    "    return head\n",
    "\n",
    "class Node():\n",
    "  def __init__(self, data, next):\n",
    "    self.data = data\n",
    "    self.next = next"
   ]
  },
  {
   "cell_type": "code",
   "execution_count": 3,
   "metadata": {},
   "outputs": [
    {
     "name": "stdout",
     "output_type": "stream",
     "text": [
      "<__main__.Node object at 0x10a4180d0>\n"
     ]
    }
   ],
   "source": [
    "head = Node(1,Node(3,Node(3,Node(1,Node(5,None)))))\n",
    "print(remove_duplicates(head))"
   ]
  },
  {
   "cell_type": "code",
   "execution_count": 4,
   "metadata": {},
   "outputs": [
    {
     "data": {
      "text/plain": [
       "1"
      ]
     },
     "execution_count": 4,
     "metadata": {},
     "output_type": "execute_result"
    }
   ],
   "source": [
    "head.data"
   ]
  },
  {
   "cell_type": "code",
   "execution_count": 5,
   "metadata": {},
   "outputs": [
    {
     "data": {
      "text/plain": [
       "3"
      ]
     },
     "execution_count": 5,
     "metadata": {},
     "output_type": "execute_result"
    }
   ],
   "source": [
    "head.next.data"
   ]
  },
  {
   "cell_type": "code",
   "execution_count": 79,
   "metadata": {},
   "outputs": [
    {
     "data": {
      "text/plain": [
       "3"
      ]
     },
     "execution_count": 79,
     "metadata": {},
     "output_type": "execute_result"
    }
   ],
   "source": [
    "head.next.next.data"
   ]
  },
  {
   "cell_type": "markdown",
   "metadata": {},
   "source": [
    "<h1><font color ='red'>sum lists</font></h1>"
   ]
  },
  {
   "cell_type": "raw",
   "metadata": {},
   "source": [
    "You have two numbers represented by a linked list, where each node contains a single digit. The digits are stored in reverse order, such that the 1's digit is at the head of the list. Write a function that adds the two numbers and returns the sum as a linked list.\n",
    "\n",
    "\n",
    "EXAMPLE\n",
    "Input: (7-> 1 -> 6) + (5 -> 9 -> 2).That is,617 + 295. Output: 2 -) 1 -) 9.That is, 912.\n",
    "FOLLOW UP\n",
    "Suppose the digits are stored in forward order. Repeat the above problem. EXAMPLE\n",
    "Input: (6 -> 1 -> 7) + (2 -> 9 -> 5).Thatis,617 + 295."
   ]
  },
  {
   "cell_type": "code",
   "execution_count": 16,
   "metadata": {},
   "outputs": [],
   "source": [
    "def sum_lists(num1, num2):\n",
    "    result = Node((num1.data+num2.data)%10)\n",
    "    pA = result\n",
    "    carry = int((num1.data+num2.data)/10)\n",
    "    while num1 or num2:\n",
    "        if num1:\n",
    "            num1 = num1.next\n",
    "            if num1:a = num1.data\n",
    "            else: a = 0\n",
    "        if num2:\n",
    "            num2 = num2.next\n",
    "            if num2:b = num2.data\n",
    "            else: b = 0\n",
    "        if num2 == None and num1 == None : break\n",
    "        pA.next = Node((a+b+carry)%10)\n",
    "        pA = pA.next\n",
    "        carry = int((a+b+carry)/10)\n",
    "        \n",
    "    return result"
   ]
  },
  {
   "cell_type": "code",
   "execution_count": 17,
   "metadata": {},
   "outputs": [],
   "source": [
    "class Node():\n",
    "  def __init__(self, data, next=None):\n",
    "    self.data, self.next = data, next\n",
    "  \n",
    "  def __str__(self):\n",
    "    string = str(self.data)\n",
    "    if self.next:\n",
    "      string += ',' + str(self.next)\n",
    "    return string"
   ]
  },
  {
   "cell_type": "code",
   "execution_count": 18,
   "metadata": {},
   "outputs": [],
   "source": [
    "num1 = Node(1,Node(2,Node(3)))\n",
    "num2 = Node(4,Node(9,Node(5)))"
   ]
  },
  {
   "cell_type": "code",
   "execution_count": 19,
   "metadata": {},
   "outputs": [
    {
     "data": {
      "text/plain": [
       "'5,1,9'"
      ]
     },
     "execution_count": 19,
     "metadata": {},
     "output_type": "execute_result"
    }
   ],
   "source": [
    "str(sum_lists(num1, num2))"
   ]
  },
  {
   "cell_type": "code",
   "execution_count": 20,
   "metadata": {},
   "outputs": [],
   "source": [
    "num1 = Node(9,Node(2,Node(3,Node(4,Node(1)))))\n",
    "num2 = Node(4,Node(9,Node(8)))"
   ]
  },
  {
   "cell_type": "code",
   "execution_count": 21,
   "metadata": {},
   "outputs": [
    {
     "data": {
      "text/plain": [
       "'3,2,2,5,1'"
      ]
     },
     "execution_count": 21,
     "metadata": {},
     "output_type": "execute_result"
    }
   ],
   "source": [
    "str(sum_lists(num1, num2))"
   ]
  },
  {
   "cell_type": "markdown",
   "metadata": {},
   "source": [
    "<h1><font color ='red'>Palindrome</font></h1>"
   ]
  },
  {
   "cell_type": "markdown",
   "metadata": {},
   "source": [
    "Implement a function to check if a linked list is a palindrome."
   ]
  },
  {
   "cell_type": "code",
   "execution_count": 25,
   "metadata": {},
   "outputs": [],
   "source": [
    "def is_palindrome(head):\n",
    "    node1 = head\n",
    "    node2 = copy_reverse(head)\n",
    "    while node1:\n",
    "        if node1.data != node2.data:\n",
    "            return False\n",
    "        node1 = node1.next\n",
    "        node2 = node2.next\n",
    "    return True\n",
    "        \n",
    "def copy_reverse(head):\n",
    "    firstnode = copy(head)\n",
    "    secondnode = None\n",
    "    while firstnode:\n",
    "        temp = copy(firstnode.next)\n",
    "        firstnode.next = secondnode\n",
    "        secondnode = firstnode\n",
    "        firstnode = temp\n",
    "    return secondnode\n",
    "      \n",
    "def copy(node):\n",
    "    if node == None: return None\n",
    "    return Node(node.data, node.next)\n",
    "\n",
    "class Node():\n",
    "  def __init__(self, data, next=None):\n",
    "    self.data, self.next = data, next\n",
    "\n",
    "  def __str__(self):\n",
    "    string = str(self.data)\n",
    "    if self.next:\n",
    "      string += ',' + str(self.next)\n",
    "    return string"
   ]
  },
  {
   "cell_type": "code",
   "execution_count": 26,
   "metadata": {},
   "outputs": [
    {
     "data": {
      "text/plain": [
       "True"
      ]
     },
     "execution_count": 26,
     "metadata": {},
     "output_type": "execute_result"
    }
   ],
   "source": [
    "list1 = Node(10)\n",
    "is_palindrome(list1)"
   ]
  },
  {
   "cell_type": "code",
   "execution_count": 27,
   "metadata": {},
   "outputs": [
    {
     "data": {
      "text/plain": [
       "True"
      ]
     },
     "execution_count": 27,
     "metadata": {},
     "output_type": "execute_result"
    }
   ],
   "source": [
    "list2 = Node(10,Node(70,Node(30,Node(70,Node(10)))))\n",
    "is_palindrome(list2)"
   ]
  },
  {
   "cell_type": "code",
   "execution_count": 30,
   "metadata": {},
   "outputs": [
    {
     "data": {
      "text/plain": [
       "<__main__.Node at 0x10a3ccf10>"
      ]
     },
     "execution_count": 30,
     "metadata": {},
     "output_type": "execute_result"
    }
   ],
   "source": [
    "head = Node(10,Node(20,Node(30,Node(40))))\n",
    "copy_reverse(head)"
   ]
  },
  {
   "cell_type": "code",
   "execution_count": 37,
   "metadata": {},
   "outputs": [
    {
     "data": {
      "text/plain": [
       "'40,30,20,10'"
      ]
     },
     "execution_count": 37,
     "metadata": {},
     "output_type": "execute_result"
    }
   ],
   "source": [
    "str(copy_reverse(head))"
   ]
  },
  {
   "cell_type": "markdown",
   "metadata": {},
   "source": [
    "<h1><font color ='red'>Partition</font></h1>"
   ]
  },
  {
   "cell_type": "raw",
   "metadata": {},
   "source": [
    "Intersection: Given two (singly) linked lists, determine if the two lists intersect. Return the inter- secting node. Note that the intersection is defined based on reference, not value. That is, if the kth node of the first linked list is the exact same node (by reference) as the jth node of the second linked list, then they are intersecting."
   ]
  },
  {
   "cell_type": "code",
   "execution_count": 39,
   "metadata": {},
   "outputs": [],
   "source": [
    "def intersection(head1, head2):\n",
    "    A = {}\n",
    "    while head1:\n",
    "        A[head1] = 1\n",
    "        head1= head1.next\n",
    "    while head2:\n",
    "        if head2 in A:\n",
    "            return head2\n",
    "        head2 = head2.next\n",
    "    return None\n",
    "\n",
    "class Node():\n",
    "  def __init__(self, data, next=None):\n",
    "    self.data, self.next = data, next\n",
    "\n",
    "  def __str__(self):\n",
    "    string = str(self.data)\n",
    "    if self.next:\n",
    "      string += ',' + str(self.next)\n",
    "    return string"
   ]
  },
  {
   "cell_type": "code",
   "execution_count": 41,
   "metadata": {},
   "outputs": [],
   "source": [
    "head1 = Node(10,Node(20,Node(30)))\n",
    "head2 = Node(20,Node(30,Node(40)))"
   ]
  },
  {
   "cell_type": "code",
   "execution_count": 47,
   "metadata": {},
   "outputs": [
    {
     "name": "stdout",
     "output_type": "stream",
     "text": [
      "None\n"
     ]
    }
   ],
   "source": [
    "print(intersection(head1, head2))"
   ]
  },
  {
   "cell_type": "code",
   "execution_count": 43,
   "metadata": {},
   "outputs": [],
   "source": [
    "node = Node(70,Node(80))"
   ]
  },
  {
   "cell_type": "code",
   "execution_count": 44,
   "metadata": {},
   "outputs": [],
   "source": [
    "head3 = Node(50,Node(20,node))\n",
    "head4 = Node(60,Node(90,Node(10,node)))"
   ]
  },
  {
   "cell_type": "code",
   "execution_count": 48,
   "metadata": {},
   "outputs": [
    {
     "name": "stdout",
     "output_type": "stream",
     "text": [
      "70,80 70,80\n"
     ]
    }
   ],
   "source": [
    "print(intersection(head3, head4),node)"
   ]
  },
  {
   "cell_type": "markdown",
   "metadata": {},
   "source": [
    "<h1><font color ='red'>Loop Detection</font></h1>"
   ]
  },
  {
   "cell_type": "raw",
   "metadata": {},
   "source": [
    "Loop Detection: Given a circular linked list, implement an algorithm that returns the node at the beginning of the loop.\n",
    "DEFINI TION\n",
    "Circular linked list: A (corrupt) linked list in which a node's next pointer points to an earlier node, so as to make a loop in the linked list.\n",
    "EXAMPLE\n",
    "Input: A -> B -> C -> 0 -> E -> C\n",
    "Output: C"
   ]
  },
  {
   "cell_type": "code",
   "execution_count": 50,
   "metadata": {},
   "outputs": [],
   "source": [
    "def detect_cycle(head):\n",
    "    pA = head\n",
    "    pB = head.next\n",
    "    A = {}\n",
    "    while pB:\n",
    "        A[pA] = 1\n",
    "        if pB in A:\n",
    "            return pB\n",
    "        pA = pA.next\n",
    "        pB = pB.next\n",
    "    return None \n",
    "\n",
    "class Node():\n",
    "  def __init__(self, data, next=None):\n",
    "    self.data, self.next = data, next"
   ]
  },
  {
   "cell_type": "code",
   "execution_count": 51,
   "metadata": {},
   "outputs": [],
   "source": [
    "head1 = Node(100,Node(200,Node(300)))"
   ]
  },
  {
   "cell_type": "code",
   "execution_count": 52,
   "metadata": {},
   "outputs": [
    {
     "name": "stdout",
     "output_type": "stream",
     "text": [
      "None\n"
     ]
    }
   ],
   "source": [
    "print(detect_cycle(head1))"
   ]
  },
  {
   "cell_type": "markdown",
   "metadata": {},
   "source": [
    "<h1><font color ='red'>Delete Middle Node </font></h1>"
   ]
  },
  {
   "cell_type": "raw",
   "metadata": {},
   "source": [
    "Delete Middle Node: Implement an algorithm to delete a node in the middle (i.e., any node but the first and last node, not necessarily the exact middle) of a singly linked list, given only access to that node.\n",
    "EXAMPLE\n",
    "Input:  a - >b- >c - >d - >e- >f\n",
    "Result: a - >b- >d - >e- >f"
   ]
  },
  {
   "cell_type": "code",
   "execution_count": 60,
   "metadata": {},
   "outputs": [],
   "source": [
    "def delete_middle(node):\n",
    "   node.data = node.next.data\n",
    "   node.next = node.next.next\n",
    "\n",
    "class Node():\n",
    "  def __init__(self, data, next=None):\n",
    "    self.data, self.next = data, next"
   ]
  },
  {
   "cell_type": "code",
   "execution_count": 61,
   "metadata": {},
   "outputs": [],
   "source": [
    "head = Node(1,Node(2,Node(3,Node(4))))\n",
    "delete_middle(head.next.next)"
   ]
  },
  {
   "cell_type": "code",
   "execution_count": 62,
   "metadata": {},
   "outputs": [
    {
     "data": {
      "text/plain": [
       "1"
      ]
     },
     "execution_count": 62,
     "metadata": {},
     "output_type": "execute_result"
    }
   ],
   "source": [
    "head.data"
   ]
  },
  {
   "cell_type": "code",
   "execution_count": 63,
   "metadata": {},
   "outputs": [
    {
     "data": {
      "text/plain": [
       "2"
      ]
     },
     "execution_count": 63,
     "metadata": {},
     "output_type": "execute_result"
    }
   ],
   "source": [
    "head.next.data"
   ]
  },
  {
   "cell_type": "code",
   "execution_count": 64,
   "metadata": {},
   "outputs": [
    {
     "data": {
      "text/plain": [
       "4"
      ]
     },
     "execution_count": 64,
     "metadata": {},
     "output_type": "execute_result"
    }
   ],
   "source": [
    "head.next.next.data"
   ]
  },
  {
   "cell_type": "markdown",
   "metadata": {},
   "source": [
    "\n",
    "<h1><font color ='red'>Return Kth to Last</font></h1>"
   ]
  },
  {
   "cell_type": "markdown",
   "metadata": {},
   "source": [
    "Implement an algorithm to find the kth to last element of a singly linked list."
   ]
  },
  {
   "cell_type": "code",
   "execution_count": 66,
   "metadata": {},
   "outputs": [],
   "source": [
    "def kth_to_last(head, k):\n",
    "    if k == 0: return None\n",
    "    pA = head\n",
    "    pB = head\n",
    "    for i in range (0,k):\n",
    "        if not pA:\n",
    "            return None\n",
    "        pA = pA.next\n",
    "    while pA:\n",
    "        pA, pB = pA.next, pB.next\n",
    "    return pB\n",
    "class Node():\n",
    "  def __init__(self, data, next=None):\n",
    "    self.data = data\n",
    "    self.next = next"
   ]
  },
  {
   "cell_type": "code",
   "execution_count": 67,
   "metadata": {},
   "outputs": [],
   "source": [
    "head = Node(1,Node(2,Node(3,Node(4,Node(5,Node(6,Node(7)))))))"
   ]
  },
  {
   "cell_type": "code",
   "execution_count": 68,
   "metadata": {},
   "outputs": [
    {
     "data": {
      "text/plain": [
       "(None, None)"
      ]
     },
     "execution_count": 68,
     "metadata": {},
     "output_type": "execute_result"
    }
   ],
   "source": [
    "(None, kth_to_last(head, 0))"
   ]
  },
  {
   "cell_type": "code",
   "execution_count": 74,
   "metadata": {},
   "outputs": [
    {
     "data": {
      "text/plain": [
       "7"
      ]
     },
     "execution_count": 74,
     "metadata": {},
     "output_type": "execute_result"
    }
   ],
   "source": [
    "(kth_to_last(head, 1).data)"
   ]
  },
  {
   "cell_type": "code",
   "execution_count": 75,
   "metadata": {},
   "outputs": [
    {
     "data": {
      "text/plain": [
       "4"
      ]
     },
     "execution_count": 75,
     "metadata": {},
     "output_type": "execute_result"
    }
   ],
   "source": [
    "(kth_to_last(head, 4).data)"
   ]
  },
  {
   "cell_type": "code",
   "execution_count": 76,
   "metadata": {},
   "outputs": [
    {
     "data": {
      "text/plain": [
       "2"
      ]
     },
     "execution_count": 76,
     "metadata": {},
     "output_type": "execute_result"
    }
   ],
   "source": [
    "(kth_to_last(head, 6).data)"
   ]
  },
  {
   "cell_type": "code",
   "execution_count": 77,
   "metadata": {},
   "outputs": [
    {
     "data": {
      "text/plain": [
       "1"
      ]
     },
     "execution_count": 77,
     "metadata": {},
     "output_type": "execute_result"
    }
   ],
   "source": [
    "(kth_to_last(head, 7).data)"
   ]
  },
  {
   "cell_type": "code",
   "execution_count": 90,
   "metadata": {},
   "outputs": [],
   "source": [
    "(kth_to_last(head, 8))"
   ]
  },
  {
   "cell_type": "code",
   "execution_count": null,
   "metadata": {},
   "outputs": [],
   "source": []
  }
 ],
 "metadata": {
  "kernelspec": {
   "display_name": "Python 3",
   "language": "python",
   "name": "python3"
  },
  "language_info": {
   "codemirror_mode": {
    "name": "ipython",
    "version": 3
   },
   "file_extension": ".py",
   "mimetype": "text/x-python",
   "name": "python",
   "nbconvert_exporter": "python",
   "pygments_lexer": "ipython3",
   "version": "3.7.6"
  }
 },
 "nbformat": 4,
 "nbformat_minor": 4
}
